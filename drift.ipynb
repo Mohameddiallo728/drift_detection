{
 "cells": [
  {
   "cell_type": "markdown",
   "metadata": {},
   "source": [
    "# Détection de dérive dans les données de diabète\n",
    "\n",
    "![concept-drift-detection-methods](assets/8-concept-drift-detection-methods.png.webp)\n",
    "\n",
    "En suivant ce TP, vous serez capable de détecter la dérive dans les données de diabète et de prendre les mesures appropriées pour maintenir la performance du modèle.\n",
    "\n",
    "| Concept   | Définition                                                                                                                         | Exemple                                                                                                                          |\n",
    "|-----------|-------------------------------------------------------------------------------------------------------------------------------------|----------------------------------------------------------------------------------------------------------------------------------|\n",
    "| Accuracy  | La proportion de diagnostics corrects parmi tous les diagnostics effectués.                                                        | Si tu diagnostiques correctement 90 patients sur 100, ton accuracy est de 90%.                                                   |\n",
    "| Precision | La proportion de vrais positifs (diagnostics corrects de la maladie) parmi tous les diagnostics positifs (diagnostics de la maladie). | Si tu diagnostiques 30 patients comme malades et 25 d'entre eux le sont vraiment, ta précision est de 83.3%.                    |\n",
    "| Recall    | La proportion de vrais positifs parmi tous les vrais cas (patients réellement malades).                                               | Si 40 patients sont réellement malades et tu diagnostiques correctement 25 d'entre eux, ton rappel est de 62.5%.                  |\n",
    "| F1 Score  | La moyenne harmonique de la précision et du rappel.                                                                                  | Si ta précision est de 83.3% et ton rappel est de 62.5%, ton F1 score est de 71.4%.                                             |\n"
   ]
  },
  {
   "cell_type": "code",
   "execution_count": 1,
   "metadata": {},
   "outputs": [],
   "source": [
    "#Importation des bibliothèques nécessaires\n",
    "import pandas as pd\n",
    "from sklearn.linear_model import LogisticRegression\n",
    "from sklearn.metrics import accuracy_score, precision_score, recall_score, f1_score\n",
    "from sklearn.model_selection import train_test_split\n",
    "from scipy.stats import ks_2samp\n",
    "import itertools\n",
    "import time\n",
    "from datetime import datetime\n",
    "import matplotlib.pyplot as plt\n",
    "import numpy as np\n"
   ]
  },
  {
   "cell_type": "markdown",
   "metadata": {},
   "source": [
    "Importons les bibliothèques nécessaires pour manipuler les données, créer et évaluer un modèle de régression logistique, détecter la dérive des données, et visualiser les résultats."
   ]
  },
  {
   "cell_type": "code",
   "execution_count": 2,
   "metadata": {},
   "outputs": [],
   "source": [
    "# Charger le dataset de diabète\n",
    "url = 'diabetes.csv'\n",
    "df = pd.read_csv(url)\n",
    "\n",
    "# Définir les colonnes\n",
    "feature_columns = ['Pregnancies', 'Glucose', 'BloodPressure', 'SkinThickness', 'Insulin', 'BMI', 'DiabetesPedigreeFunction', 'Age']\n",
    "target_column = 'Outcome'\n"
   ]
  },
  {
   "cell_type": "markdown",
   "metadata": {},
   "source": [
    "Chargement du jeu de données et définissons les colonnes des caractéristiques et la colonne cible.\n",
    "\n"
   ]
  },
  {
   "cell_type": "code",
   "execution_count": 3,
   "metadata": {},
   "outputs": [],
   "source": [
    "#Fonction pour introduire la dérive dans les données\n",
    "def introduce_drift(data, drift_probability=1):\n",
    "    drifted_data = data.copy()\n",
    "    if np.random.rand() < drift_probability:\n",
    "        original_glucose = drifted_data['Glucose'].values[0]\n",
    "        original_bmi = drifted_data['BMI'].values[0]\n",
    "        drifted_data['Glucose'] *= np.random.uniform(3.0, 5.0) \n",
    "        drifted_data['BMI'] *= np.random.uniform(0.2, 0.5)\n",
    "        print(f\"Original Glucose: {original_glucose}, Drifted Glucose: {drifted_data['Glucose'].values[0]}\")\n",
    "        print(f\"Original BMI: {original_bmi}, Drifted BMI: {drifted_data['BMI'].values[0]}\")\n",
    "    return drifted_data\n"
   ]
  },
  {
   "cell_type": "markdown",
   "metadata": {},
   "source": [
    "Ici on cherche à introduit une dérive dans les valeurs de glucose et d'IMC des données."
   ]
  },
  {
   "cell_type": "code",
   "execution_count": 4,
   "metadata": {},
   "outputs": [],
   "source": [
    "#Ingestion des données avec introduction de dérive\n",
    "def ingest_data_stream_with_drift(df, drift_probability=1):\n",
    "    # Créer un itérateur infini sur le dataset\n",
    "    data_iterator = itertools.cycle(df.to_dict('records'))\n",
    "    while True:\n",
    "        data = next(data_iterator)\n",
    "        # Introduire la dérive avec une certaine probabilité\n",
    "        data_with_drift = introduce_drift(pd.DataFrame([data]), drift_probability)\n",
    "        yield data_with_drift.to_dict('records')[0]\n",
    "        time.sleep(2)  # Introduire un délai de 2 secondes\n"
   ]
  },
  {
   "cell_type": "markdown",
   "metadata": {
    "vscode": {
     "languageId": "latex"
    }
   },
   "source": [
    "Cette fonction simule un flux de données en introduisant de la dérive à chaque point de données avec une certaine probabilité."
   ]
  },
  {
   "cell_type": "code",
   "execution_count": 5,
   "metadata": {},
   "outputs": [],
   "source": [
    "#Détection de dérive\n",
    "def detect_drift(X_train, X_test):\n",
    "    # Effectuer le test de Kolmogorov-Smirnov pour détecter la dérive des données\n",
    "    drift_scores = []\n",
    "    for col in X_train.columns:\n",
    "        drift_score = ks_2samp(X_train[col], X_test[col]).statistic\n",
    "        drift_scores.append(drift_score)\n",
    "        print(f\"Score drift pour {col}: {drift_score:.2f}\")\n",
    "    \n",
    "    # Vérifier si le score de dérive maximal dépasse un seuil\n",
    "    drift_threshold = 0.09\n",
    "    if max(drift_scores) > drift_threshold:\n",
    "        return True, drift_scores\n",
    "    else:\n",
    "        return False, drift_scores\n"
   ]
  },
  {
   "cell_type": "markdown",
   "metadata": {},
   "source": [
    "Cette fonction utilise le test de Kolmogorov-Smirnov pour détecter la dérive entre les données d'entraînement et de test."
   ]
  },
  {
   "cell_type": "code",
   "execution_count": 6,
   "metadata": {},
   "outputs": [],
   "source": [
    "#Notification et recommandations\n",
    "def notify_and_recommend(drift_detected, drift_scores, columns, model, X_test, y_test):\n",
    "    if drift_detected:\n",
    "        print(\"Dérive des données détectée !\")\n",
    "        print(\"Actions recommandées :\")\n",
    "        print(\"- Réentraîner le modèle avec les données les plus récentes\")\n",
    "        print(\"- Étudier les caractéristiques ayant des scores de dérive élevés :\")\n",
    "        for i, score in enumerate(drift_scores):\n",
    "            print(f\"  - {columns[i]}: {score:.2f}\")\n",
    "        print(\"- Collecter des données supplémentaires pour améliorer les performances du modèle\")\n",
    "    else:\n",
    "        print(\"Aucune dérive des données n'a été détectée. (Model is up-to-date)\")\n",
    "\n",
    "    # Calculer les métriques de performance après réentraînement\n",
    "    y_pred = model.predict(X_test)\n",
    "    accuracy = accuracy_score(y_test, y_pred)\n",
    "    precision = precision_score(y_test, y_pred)\n",
    "    recall = recall_score(y_test, y_pred)\n",
    "    f1 = f1_score(y_test, y_pred)\n",
    "\n",
    "    # Afficher les nouvelles métriques de performance\n",
    "    print(f\"\\nPerformance du modèle au {datetime.now()}:\")\n",
    "    print(f\"Accuracy: {accuracy:.2f}\")\n",
    "    print(f\"Precision: {precision:.2f}\")\n",
    "    print(f\"Recall: {recall:.2f}\")\n",
    "    print(f\"F1 Score: {f1:.2f}\")\n",
    "\n",
    "    return accuracy, precision, recall, f1\n"
   ]
  },
  {
   "cell_type": "markdown",
   "metadata": {},
   "source": [
    "- Cette fonction vas notifier l'utilisateur de la détection de dérive et recommande des actions. \n",
    "- Elle calcule également les métriques de performance du modèle."
   ]
  },
  {
   "cell_type": "code",
   "execution_count": 7,
   "metadata": {},
   "outputs": [],
   "source": [
    "#Suivi de la distribution des diabétiques\n",
    "def track_diabetic_distribution(df):\n",
    "    df['Timestamp'] = pd.to_datetime(df.index, unit='s')\n",
    "    df['Diabetic'] = df['Outcome']\n",
    "    df.set_index('Timestamp', inplace=True)\n",
    "    df['Diabetic'].resample('D').mean().plot(title='Répartition des diabétiques au fil du temps')\n",
    "    plt.xlabel('Date')\n",
    "    plt.ylabel('Proportion de diabétiques')\n",
    "    plt.show()\n"
   ]
  },
  {
   "cell_type": "code",
   "execution_count": 8,
   "metadata": {},
   "outputs": [
    {
     "name": "stdout",
     "output_type": "stream",
     "text": [
      "\n",
      "Performance initiale du modèle:\n",
      "Accuracy: 0.75\n",
      "Precision: 0.64\n",
      "Recall: 0.67\n",
      "F1 Score: 0.65\n"
     ]
    }
   ],
   "source": [
    "# Entrainement initiale\n",
    "X = df[feature_columns]\n",
    "y = df[target_column]\n",
    "X_train, X_test, y_train, y_test = train_test_split(X, y, test_size=0.2, random_state=42)\n",
    "\n",
    "model = LogisticRegression(max_iter=1000)\n",
    "model.fit(X_train, y_train)\n",
    "\n",
    "# Mesures de performance initiales\n",
    "y_pred = model.predict(X_test)\n",
    "accuracy = accuracy_score(y_test, y_pred)\n",
    "precision = precision_score(y_test, y_pred)\n",
    "recall = recall_score(y_test, y_pred)\n",
    "f1 = f1_score(y_test, y_pred)\n",
    "\n",
    "accuracy_history = [accuracy]\n",
    "precision_history = [precision]\n",
    "recall_history = [recall]\n",
    "f1_history = [f1]\n",
    "\n",
    "# DataFrame to store drifted data\n",
    "drifted_data_list = []\n",
    "\n",
    "print(\"\\nPerformance initiale du modèle:\")\n",
    "print(f\"Accuracy: {accuracy:.2f}\")\n",
    "print(f\"Precision: {precision:.2f}\")\n",
    "print(f\"Recall: {recall:.2f}\")\n",
    "print(f\"F1 Score: {f1:.2f}\")\n"
   ]
  },
  {
   "cell_type": "markdown",
   "metadata": {},
   "source": [
    "Effectuons un entraînement initial du modèle et calculons les métriques de performance initiales."
   ]
  },
  {
   "cell_type": "code",
   "execution_count": 13,
   "metadata": {},
   "outputs": [],
   "source": [
    "# Suivi de la distribution des diabétiques\n",
    "#track_diabetic_distribution(df)\n"
   ]
  },
  {
   "cell_type": "markdown",
   "metadata": {},
   "source": [
    "La boucle principale qui ingère les nouvelles données, détecte la dérive, réentraîne le modèle et notifie l'utilisateur tout en enregistrant les données dérivées et les métriques de performance.\n"
   ]
  },
  {
   "cell_type": "code",
   "execution_count": null,
   "metadata": {},
   "outputs": [],
   "source": [
    "# Boucle principale pour ingérer de nouvelles données, détecter la dérive et réentraîner le modèle\n",
    "\n",
    "data_stream = ingest_data_stream_with_drift(df, drift_probability=1)\n",
    "\n",
    "for i in range(30):  # generation de 30 points de données pour test\n",
    "    new_data = next(data_stream)\n",
    "    X_new = pd.DataFrame([new_data])[feature_columns]\n",
    "    y_new = pd.DataFrame([new_data])[target_column]\n",
    "\n",
    "    # Nettoyez les valeurs manquantes\n",
    "    X_new = X_new.dropna()\n",
    "    y_new = y_new.dropna()\n",
    "    \n",
    "    if not X_new.empty and not y_new.empty:\n",
    "        # Ajoutez les nouvelles données\n",
    "        X_train = pd.concat([X_train, X_new], ignore_index=True)\n",
    "        y_train = pd.concat([y_train, y_new], ignore_index=True)\n",
    "\n",
    "        # Réentraînez le modèle\n",
    "        model.fit(X_train, y_train)\n",
    "\n",
    "        # Détection de dérive\n",
    "        drift_detected, drift_scores = detect_drift(X_train, X_test)\n",
    "\n",
    "        # Notification et recommandations\n",
    "        accuracy, precision, recall, f1 = notify_and_recommend(drift_detected, drift_scores, feature_columns, model, X_test, y_test)\n",
    "\n",
    "        # Enregistrez les données avec dérive\n",
    "        if drift_detected:\n",
    "            drifted_data_list.append(new_data)\n",
    "\n",
    "        # Calcul des métriques de performance\n",
    "        y_pred = model.predict(X_test)\n",
    "        accuracy = accuracy_score(y_test, y_pred)\n",
    "        precision = precision_score(y_test, y_pred)\n",
    "        recall = recall_score(y_test, y_pred)\n",
    "        f1 = f1_score(y_test, y_pred)\n",
    "\n",
    "        # Enregistrez les métriques de performance\n",
    "        accuracy_history.append(accuracy)\n",
    "        precision_history.append(precision)\n",
    "        recall_history.append(recall)\n",
    "        f1_history.append(f1)\n",
    "\n",
    "        # Save the drifted data and performance metrics to CSV files\n",
    "        pd.DataFrame(drifted_data_list).to_csv('drifted_data.csv', index=False)\n",
    "        metrics_df = pd.DataFrame({\n",
    "            'datetime': datetime.now(),\n",
    "            'accuracy': accuracy_history,\n",
    "            'precision': precision_history,\n",
    "            'recall': recall_history,\n",
    "            'f1_score': f1_history\n",
    "        })\n",
    "        metrics_df.to_csv('performance_metrics.csv', index=False)\n"
   ]
  }
 ],
 "metadata": {
  "kernelspec": {
   "display_name": "envpy",
   "language": "python",
   "name": "python3"
  },
  "language_info": {
   "codemirror_mode": {
    "name": "ipython",
    "version": 3
   },
   "file_extension": ".py",
   "mimetype": "text/x-python",
   "name": "python",
   "nbconvert_exporter": "python",
   "pygments_lexer": "ipython3",
   "version": "3.12.3"
  }
 },
 "nbformat": 4,
 "nbformat_minor": 2
}
